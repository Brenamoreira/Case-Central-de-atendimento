{
 "cells": [
  {
   "cell_type": "markdown",
   "id": "1a280920",
   "metadata": {},
   "source": [
    "## Case Ton | Análise de dados\n",
    "\n",
    "#### Realizado por: Brena Arcênio Moreira"
   ]
  },
  {
   "cell_type": "code",
   "execution_count": null,
   "id": "ab1c94c1",
   "metadata": {},
   "outputs": [],
   "source": [
    "import pandas as pd\n",
    "import matplotlib.pyplot as plt\n",
    "import numpy as np\n",
    "import seaborn as sns\n",
    "import plotly.express as px\n"
   ]
  },
  {
   "cell_type": "markdown",
   "id": "ee6479c8",
   "metadata": {},
   "source": [
    "### Importação e tratamento das bases de dados antes das análises"
   ]
  },
  {
   "cell_type": "code",
   "execution_count": null,
   "id": "5ff7583c",
   "metadata": {},
   "outputs": [],
   "source": [
    "df1= pd.read_csv('cases.csv')\n",
    "df2= pd.read_csv('creds.csv')"
   ]
  },
  {
   "cell_type": "code",
   "execution_count": null,
   "id": "43ad48ed",
   "metadata": {},
   "outputs": [],
   "source": [
    "#Com o resultado dessa linha podemos identificar que a principal fonte de dados de identificação do cliente possui \n",
    "#diversos valores vazios o que é bastante prejudicial em análises de dados pois são informações que não conseguimos\n",
    "#mapear e por isso iremos limpar esses dados\n",
    "\n",
    "df1.isnull().sum()\n",
    "df2.isnull().sum()\n",
    "\n",
    "df1= df1.dropna(subset=['Id'])\n",
    "df2= df2.dropna(subset=['accountid'])"
   ]
  },
  {
   "cell_type": "code",
   "execution_count": null,
   "id": "cbecd673",
   "metadata": {},
   "outputs": [],
   "source": [
    "# Analisando a tabela de chamados identifiquei que temos motivos macros dentro do assunto da ligação\n",
    "# esses motivos macros irão auxiliar para fazermos analises futuramente.\n",
    "\n",
    "new = df1[\"assunto\"].str.split(\":\", n = 1, expand = True)\n",
    "\n",
    "# Criando a Nova Coluna \"First Name\" com o new[0]\n",
    "df1[\"Motivo_macro\"]= new[0] \n",
    "\n",
    "# Criando a Nova Coluna \"Last Name\" com o new[1]\n",
    "df1[\"Motivo_micro\"]= new[1] \n"
   ]
  },
  {
   "cell_type": "code",
   "execution_count": null,
   "id": "384f8470",
   "metadata": {},
   "outputs": [],
   "source": [
    "df1.drop(columns =[\"Unnamed: 0\"], inplace = True) \n",
    "df2.drop(columns =[\"Unnamed: 0\"], inplace = True) "
   ]
  },
  {
   "cell_type": "code",
   "execution_count": null,
   "id": "5a499f67",
   "metadata": {},
   "outputs": [],
   "source": [
    "# Aqui criamos o mes referencia para analisarmos em espaço de datas maiores \n",
    "df1['date_ref'] = pd.to_datetime(df1['date_ref'],dayfirst = True )\n",
    "df1['contact_cohort']=df1['date_ref'].dt.strftime('%m/%Y')\n",
    "\n",
    "df2['cred_date'] = pd.to_datetime(df2['cred_date'],dayfirst = True )\n",
    "df2['account_cohort']=df2['cred_date'].dt.strftime('%m/%Y')"
   ]
  },
  {
   "cell_type": "code",
   "execution_count": null,
   "id": "b1d920cc",
   "metadata": {
    "scrolled": true
   },
   "outputs": [],
   "source": [
    "df1['contact_cohort']=pd.to_datetime(df1['contact_cohort'],dayfirst = True )"
   ]
  },
  {
   "cell_type": "markdown",
   "id": "5af3f662",
   "metadata": {},
   "source": [
    "#### vamos às questões:\n",
    "1.\tFoi implementada no dia 1 de agosto uma funcionalidade nova no site do Ton que acredita que irá diminuir a quantidade de chamados recebidos. Avalie se a implementação teve um impacto estatisticamente relevante!\n"
   ]
  },
  {
   "cell_type": "code",
   "execution_count": null,
   "id": "b802a63b",
   "metadata": {},
   "outputs": [],
   "source": [
    "#primeiro vamos olhar a distribuição de ligações por mês:\n",
    "ligacao_por_mes=df1.groupby('contact_cohort',as_index= False).count()\n",
    "ligacao_por_mes=ligacao_por_mes[['contact_cohort','Id']]\n",
    "display(ligacao_por_mes)"
   ]
  },
  {
   "cell_type": "code",
   "execution_count": null,
   "id": "0a0e66b2",
   "metadata": {},
   "outputs": [],
   "source": [
    "fig=px.bar(ligacao_por_mes,x='contact_cohort',y='Id')\n",
    "fig.show()"
   ]
  },
  {
   "cell_type": "code",
   "execution_count": null,
   "id": "100d2f29",
   "metadata": {},
   "outputs": [],
   "source": [
    "#abrindo para verificarmos por dia: \n",
    "#primeiro vamos olhar a distribuição de ligações por mês:\n",
    "ligacao_por_dia=df1.groupby('date_ref',as_index= False).count()\n",
    "ligacao_por_dia=ligacao_por_dia[['date_ref','Id']]\n",
    "fig=px.bar(ligacao_por_dia,x='date_ref',y='Id')\n",
    "fig.show()\n",
    "\n",
    "# Podemos verificar que há uma diminuição, mas nada que seja visualmente fora da curva"
   ]
  },
  {
   "cell_type": "code",
   "execution_count": null,
   "id": "2465e042",
   "metadata": {},
   "outputs": [],
   "source": [
    "# Vamos utilizar um cálculo de retorno para verificar se a diferença para o mês anterior foi significativa estatisticamente\n",
    "aux1=df1.groupby('contact_cohort').count()\n",
    "aux1=aux1['Id']\n",
    "\n",
    "\n",
    "var_mom=((aux1-aux1.shift(1))/ aux1.shift(1))\n",
    "\n",
    "var_mom"
   ]
  },
  {
   "cell_type": "code",
   "execution_count": null,
   "id": "4bc3b5bf",
   "metadata": {},
   "outputs": [],
   "source": [
    "# Não temos uma diminuição signficativa no mês de agosto, tendo o número de ligações aumentado logo após em setembro. \n",
    "#Em outubro sim temos uma queda um pouco mais significativa "
   ]
  },
  {
   "cell_type": "markdown",
   "id": "6a208f55",
   "metadata": {},
   "source": [
    "2.Foi notado pelo nosso time que clientes recem credenciados possuem um comportamento específico em relação à quantidade de chamados realizados logo após seu credenciamento. Identifique e prepare alguma forma de visualizar essa diferença notada pelos agentes."
   ]
  },
  {
   "cell_type": "code",
   "execution_count": null,
   "id": "20c82de9",
   "metadata": {},
   "outputs": [],
   "source": [
    "#Juntando as duas bases\n",
    "aux2= df1.merge(df2,how='left',on='accountid')\n"
   ]
  },
  {
   "cell_type": "code",
   "execution_count": null,
   "id": "9a0d8454",
   "metadata": {},
   "outputs": [],
   "source": [
    "aux2['quantidade_dias']=((aux2['date_ref'] - aux2['cred_date'])/np.timedelta64(1 , 'D')).astype(int)"
   ]
  },
  {
   "cell_type": "code",
   "execution_count": null,
   "id": "5b9ca4a4",
   "metadata": {},
   "outputs": [],
   "source": [
    "aux3=aux2[['quantidade_dias','Motivo_macro','Id']].groupby(['quantidade_dias','Motivo_macro'],as_index = False).count()\n",
    "aux3=aux3.sort_values(by=['quantidade_dias','Id'],ascending=True )\n",
    "fig=px.bar(aux3,x='quantidade_dias',y='Id',color='Motivo_macro')\n",
    "fig.show()"
   ]
  },
  {
   "cell_type": "code",
   "execution_count": null,
   "id": "12dacec9",
   "metadata": {},
   "outputs": [],
   "source": [
    "## De fato há um maior incidente de ligações principalmente nos 15 primeiros dias após credenciamento."
   ]
  },
  {
   "cell_type": "markdown",
   "id": "ea4e5a79",
   "metadata": {},
   "source": [
    "3.\tPara conseguir melhorar a qualidade do nosso atendimento ao cliente, foi proposto que a alguns chamados tenham prioridade de atendimento. Levando em consideração o motivo dos chamados, como você estabeleceria essa prioridade da fila de espera? Sugestão: Proponha uma clusterização da base de clientes que julgue atender da melhor forma a necessidade apresentada."
   ]
  },
  {
   "cell_type": "code",
   "execution_count": null,
   "id": "dff10b40",
   "metadata": {},
   "outputs": [],
   "source": [
    "# como ja proposto aqui separamos os clientes por motivo macro sendo ele utilizado para nossa clusterização. \n",
    "#Vamos ver quais motivos tem mais chamados\n",
    "ligacao_por_motivo=aux2.groupby('Motivo_macro',as_index= False).count()\n",
    "ligacao_por_motivo=ligacao_por_motivo[['Motivo_macro','Id']]\n",
    "ligacao_por_motivo=ligacao_por_motivo.sort_values(by=['Id'],ascending=False )\n",
    "fig=px.bar(ligacao_por_motivo,x='Motivo_macro',y='Id')\n",
    "fig.show()"
   ]
  },
  {
   "cell_type": "code",
   "execution_count": null,
   "id": "48ab3c0f",
   "metadata": {},
   "outputs": [],
   "source": [
    "#Abrindo em mais detalhes essas ligações\n",
    "ligacao_por_motivo=aux2[['Motivo_macro','Motivo_micro','Id']].groupby(['Motivo_macro','Motivo_micro'],as_index = False).count()\n",
    "ligacao_por_motivo=ligacao_por_motivo.sort_values(by=['Id'],ascending=False )\n",
    "fig=px.bar(ligacao_por_motivo,x='Motivo_macro',y='Id',color='Motivo_micro')\n",
    "fig.show()"
   ]
  },
  {
   "cell_type": "code",
   "execution_count": null,
   "id": "e7486c4e",
   "metadata": {},
   "outputs": [],
   "source": []
  },
  {
   "cell_type": "code",
   "execution_count": null,
   "id": "23a6f12a",
   "metadata": {},
   "outputs": [],
   "source": []
  }
 ],
 "metadata": {
  "kernelspec": {
   "display_name": "Python 3 (ipykernel)",
   "language": "python",
   "name": "python3"
  },
  "language_info": {
   "codemirror_mode": {
    "name": "ipython",
    "version": 3
   },
   "file_extension": ".py",
   "mimetype": "text/x-python",
   "name": "python",
   "nbconvert_exporter": "python",
   "pygments_lexer": "ipython3",
   "version": "3.9.13"
  }
 },
 "nbformat": 4,
 "nbformat_minor": 5
}
